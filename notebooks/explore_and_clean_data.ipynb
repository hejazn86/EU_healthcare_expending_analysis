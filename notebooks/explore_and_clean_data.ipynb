{
 "cells": [
  {
   "cell_type": "markdown",
   "id": "541eef1c",
   "metadata": {},
   "source": [
    "# Importing required libraries "
   ]
  },
  {
   "cell_type": "code",
   "execution_count": null,
   "id": "fbc70e08",
   "metadata": {},
   "outputs": [],
   "source": [
    "import pandas as pd\n",
    "import matplotlib.pyplot as plt\n",
    "import seaborn as sn"
   ]
  },
  {
   "cell_type": "markdown",
   "id": "53e1ed8d",
   "metadata": {},
   "source": [
    "# Load the data"
   ]
  },
  {
   "cell_type": "code",
   "execution_count": 14,
   "id": "c9e14128",
   "metadata": {},
   "outputs": [],
   "source": [
    "\n",
    "exp_df = pd.read_csv(\"C:/Users/39351/github/Eu_healthcare_spending_analysis/data/raw/eu_health_expending.csv\", compression='gzip')\n",
    "life_df = pd.read_csv(\"C:/Users/39351/github/Eu_healthcare_spending_analysis/data/raw/life-expectancy.csv\", compression='gzip')\n",
    "mort_df = pd.read_csv(\"C:/Users/39351/github/Eu_healthcare_spending_analysis/data/raw/mortality_rate.csv\", compression='gzip')\n"
   ]
  },
  {
   "cell_type": "markdown",
   "id": "f019a1c2",
   "metadata": {},
   "source": [
    "# Cleaning the Data"
   ]
  },
  {
   "cell_type": "code",
   "execution_count": null,
   "id": "6b203257",
   "metadata": {},
   "outputs": [],
   "source": [
    "\n",
    "exp_df.head()\n",
    "exp_df.columns, exp_df.shape\n",
    "exp_df['Classification of health care financing schemes - SHA 2011'].value_counts()\n",
    "\n",
    "# remove unnecessary columns\n",
    "exp_clean = exp_df[['geo',\n",
    "        'Geopolitical entity (reporting)', 'TIME_PERIOD', 'unit', 'icha11_hf','Classification of health care financing schemes - SHA 2011', 'OBS_VALUE']]\n",
    "\n",
    "\n",
    "# renaming the columns\n",
    "exp_clean.rename(columns={\n",
    "    'geo': 'Country Code',\n",
    "    'Geopolitical entity (reporting)': 'Country Name', \n",
    "    'TIME_PERIOD': 'year', \n",
    "    'unit': 'unit', \n",
    "    'icha11_hf': 'financing_code',\n",
    "    'Classification of health care financing schemes - SHA 2011': 'category', \n",
    "    'OBS_VALUE': 'spending'\n",
    "}, inplace=True)\n",
    "\n",
    "\n"
   ]
  },
  {
   "cell_type": "code",
   "execution_count": null,
   "id": "ceab3ca8",
   "metadata": {},
   "outputs": [],
   "source": [
    "# life_df.head()\n",
    "# life_df.columns, life_df.shape\n",
    "\n",
    "# mort_df.head()\n",
    "# mort_df.columns, mort_df.shape"
   ]
  }
 ],
 "metadata": {
  "kernelspec": {
   "display_name": "base",
   "language": "python",
   "name": "python3"
  },
  "language_info": {
   "codemirror_mode": {
    "name": "ipython",
    "version": 3
   },
   "file_extension": ".py",
   "mimetype": "text/x-python",
   "name": "python",
   "nbconvert_exporter": "python",
   "pygments_lexer": "ipython3",
   "version": "3.11.5"
  }
 },
 "nbformat": 4,
 "nbformat_minor": 5
}
